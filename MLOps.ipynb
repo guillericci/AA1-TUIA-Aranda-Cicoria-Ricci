{
  "cells": [
    {
      "cell_type": "code",
      "execution_count": null,
      "metadata": {},
      "outputs": [],
      "source": [
        "#Instalar la libreria en caso de ser necesario\n",
        "#!pip install matplotlib"
      ]
    },
    {
      "cell_type": "markdown",
      "metadata": {},
      "source": [
        "# Librerias "
      ]
    },
    {
      "cell_type": "code",
      "execution_count": 3,
      "metadata": {},
      "outputs": [],
      "source": [
        "import numpy as np\n",
        "import pandas as pd\n",
        "import joblib\n",
        "import matplotlib.pyplot as plt\n",
        "from sklearn.base import BaseEstimator, TransformerMixin\n",
        "from sklearn.cluster import KMeans\n",
        "from joblib import dump\n",
        "from joblib import load\n",
        "from sklearn.compose import ColumnTransformer\n",
        "from sklearn.preprocessing import StandardScaler, OneHotEncoder, OrdinalEncoder\n",
        "from sklearn.linear_model import LogisticRegression\n",
        "from sklearn.pipeline import Pipeline\n",
        "from sklearn.model_selection import train_test_split\n",
        "from sklearn import metrics\n",
        "from sklearn.metrics import ( confusion_matrix,classification_report, ConfusionMatrixDisplay, accuracy_score, precision_score,\n",
        "                             recall_score, f1_score, roc_curve, roc_auc_score\n",
        ")"
      ]
    },
    {
      "cell_type": "code",
      "execution_count": 4,
      "metadata": {},
      "outputs": [],
      "source": [
        "import sys, os\n",
        "sys.path.insert(0, os.path.abspath(\"docker\"))\n"
      ]
    },
    {
      "cell_type": "markdown",
      "metadata": {},
      "source": [
        "Importamos los imputadores y codificadores desde la carpeta 'transformadores'\n"
      ]
    },
    {
      "cell_type": "code",
      "execution_count": 5,
      "metadata": {},
      "outputs": [],
      "source": [
        "from transformadores.Temporal_GeoTransformer import TemporalGeoTransformer\n",
        "from transformadores.Hierarchical_Imputer import HierarchicalImputer\n",
        "from transformadores.Outlier_Capper import OutlierCapper\n",
        "from transformadores.Cyclic_Encoder_Cleaner import CyclicEncoderCleaner"
      ]
    },
    {
      "cell_type": "code",
      "execution_count": 6,
      "metadata": {
        "id": "GyE8fOHw8sBO"
      },
      "outputs": [],
      "source": [
        "# Carga datos de dataset en dataframe\n",
        "df = pd.read_csv('./files/input.csv')"
      ]
    },
    {
      "cell_type": "code",
      "execution_count": 7,
      "metadata": {
        "id": "1pRIYmnJ8vDV"
      },
      "outputs": [],
      "source": [
        "# Cargamos además las coordenadas de Australia\n",
        "coord_aus = pd.read_csv('https://raw.githubusercontent.com/guillericci/AA1-TUIA-Aranda-Cicoria-Ricci/refs/heads/main/coordenadas_aus.csv')"
      ]
    },
    {
      "cell_type": "markdown",
      "metadata": {},
      "source": [
        "# Transformacion de datos\n"
      ]
    },
    {
      "cell_type": "code",
      "execution_count": 8,
      "metadata": {
        "id": "UIvR7qIH85JG"
      },
      "outputs": [],
      "source": [
        "#Eliminamos nulos de la variable target\n",
        "df = df.dropna(subset=['RainTomorrow'])"
      ]
    },
    {
      "cell_type": "code",
      "execution_count": 9,
      "metadata": {
        "id": "-row702tC6y2"
      },
      "outputs": [],
      "source": [
        "# Columnas categóricas\n",
        "cat_cols = df.select_dtypes(include=['object']).columns.difference(['RainTomorrow']).tolist()"
      ]
    },
    {
      "cell_type": "code",
      "execution_count": 10,
      "metadata": {
        "id": "wBBVa-nYDiw8"
      },
      "outputs": [],
      "source": [
        "# Columnas categóricas para OneHot y Ordinal\n",
        "onehot_cols = ['Rainfall_cat', 'Evaporation_cat', 'RegionCluster']\n",
        "binary_cols = ['RainToday']\n",
        "\n",
        "# Columnas numéricas estandarizables\n",
        "num_cols = [\n",
        "    'Sunshine', 'Humidity3pm', 'Cloud9am', 'Cloud3pm', 'anio',\n",
        "    'Temp9am_cap', 'Temp3pm_cap', 'Pressure9am_cap', 'Pressure3pm_cap',\n",
        "    'Humidity9am_cap', 'MinTemp_cap', 'MaxTemp_cap',\n",
        "    'WindGustSpeed_cap', 'WindSpeed9am_cap', 'WindSpeed3pm_cap'\n",
        "]\n"
      ]
    },
    {
      "cell_type": "markdown",
      "metadata": {},
      "source": [
        "Creamos el preprocesador para escalado y codificado de variables."
      ]
    },
    {
      "cell_type": "code",
      "execution_count": 11,
      "metadata": {
        "id": "p6lZBb9w_TWM"
      },
      "outputs": [],
      "source": [
        "preprocesador = ColumnTransformer(transformers=[\n",
        "    ('num', StandardScaler(), num_cols),\n",
        "    ('onehot', OneHotEncoder(drop='first', handle_unknown='ignore'), onehot_cols),\n",
        "    ('binary', OrdinalEncoder(), binary_cols)\n",
        "])\n"
      ]
    },
    {
      "cell_type": "markdown",
      "metadata": {},
      "source": [
        "Creamos el modelo de regresión logística con el parámetro óptimo."
      ]
    },
    {
      "cell_type": "code",
      "execution_count": 12,
      "metadata": {
        "id": "iZNz4bm5AKDs"
      },
      "outputs": [],
      "source": [
        "modelo_final = LogisticRegression(\n",
        "    penalty='l2',\n",
        "    C=0.07439822123443487,\n",
        "    solver='liblinear',\n",
        "    random_state=42\n",
        ")"
      ]
    },
    {
      "cell_type": "markdown",
      "metadata": {},
      "source": [
        "Creamos el pipeline."
      ]
    },
    {
      "cell_type": "code",
      "execution_count": 15,
      "metadata": {
        "id": "Nq_AzGds_WuJ"
      },
      "outputs": [],
      "source": [
        "pipeline_produccion = Pipeline([\n",
        "    ('geo', TemporalGeoTransformer(coord_df=coord_aus, n_clusters=9)),\n",
        "    ('imputacion', HierarchicalImputer(\n",
        "        columnas_num_excluir=['Cloud9am', 'Cloud3pm'],\n",
        "        columnas_cat=cat_cols + ['Cloud9am', 'Cloud3pm']\n",
        "    )),\n",
        "    ('outliers', OutlierCapper()),\n",
        "    ('cyclic_clean', CyclicEncoderCleaner()),\n",
        "    ('preprocesamiento', preprocesador),\n",
        "    ('modelo', modelo_final)\n",
        "])\n"
      ]
    },
    {
      "cell_type": "markdown",
      "metadata": {},
      "source": [
        "Divimos dataset en train y test para poder evaluar el pipeline. "
      ]
    },
    {
      "cell_type": "code",
      "execution_count": 14,
      "metadata": {},
      "outputs": [],
      "source": [
        "y = df['RainTomorrow'].map({'No': 0, 'Yes': 1})\n",
        "X = df.drop(columns=['RainTomorrow'], axis=1)\n",
        "\n",
        "# División estratificada (porque la clase puede estar desbalanceada)\n",
        "X_train, X_test, y_train, y_test = train_test_split(X, y, test_size=0.2, stratify=y, random_state=42)"
      ]
    },
    {
      "cell_type": "markdown",
      "metadata": {},
      "source": [
        "Entrenamos el Pipeline y lo guardamos\n"
      ]
    },
    {
      "cell_type": "code",
      "execution_count": 16,
      "metadata": {},
      "outputs": [
        {
          "data": {
            "text/plain": [
              "['./docker/pipeline.pkl']"
            ]
          },
          "execution_count": 16,
          "metadata": {},
          "output_type": "execute_result"
        }
      ],
      "source": [
        "# Entrenar pipeline final con mejores hiperparámetros\n",
        "pipeline_produccion.fit(X_train, y_train)\n",
        "\n",
        "#save pipeline\n",
        "joblib.dump(pipeline_produccion, './docker/pipeline.pkl')\n"
      ]
    },
    {
      "cell_type": "code",
      "execution_count": 17,
      "metadata": {},
      "outputs": [
        {
          "data": {
            "text/html": [
              "<style>#sk-container-id-1 {\n",
              "  /* Definition of color scheme common for light and dark mode */\n",
              "  --sklearn-color-text: black;\n",
              "  --sklearn-color-line: gray;\n",
              "  /* Definition of color scheme for unfitted estimators */\n",
              "  --sklearn-color-unfitted-level-0: #fff5e6;\n",
              "  --sklearn-color-unfitted-level-1: #f6e4d2;\n",
              "  --sklearn-color-unfitted-level-2: #ffe0b3;\n",
              "  --sklearn-color-unfitted-level-3: chocolate;\n",
              "  /* Definition of color scheme for fitted estimators */\n",
              "  --sklearn-color-fitted-level-0: #f0f8ff;\n",
              "  --sklearn-color-fitted-level-1: #d4ebff;\n",
              "  --sklearn-color-fitted-level-2: #b3dbfd;\n",
              "  --sklearn-color-fitted-level-3: cornflowerblue;\n",
              "\n",
              "  /* Specific color for light theme */\n",
              "  --sklearn-color-text-on-default-background: var(--sg-text-color, var(--theme-code-foreground, var(--jp-content-font-color1, black)));\n",
              "  --sklearn-color-background: var(--sg-background-color, var(--theme-background, var(--jp-layout-color0, white)));\n",
              "  --sklearn-color-border-box: var(--sg-text-color, var(--theme-code-foreground, var(--jp-content-font-color1, black)));\n",
              "  --sklearn-color-icon: #696969;\n",
              "\n",
              "  @media (prefers-color-scheme: dark) {\n",
              "    /* Redefinition of color scheme for dark theme */\n",
              "    --sklearn-color-text-on-default-background: var(--sg-text-color, var(--theme-code-foreground, var(--jp-content-font-color1, white)));\n",
              "    --sklearn-color-background: var(--sg-background-color, var(--theme-background, var(--jp-layout-color0, #111)));\n",
              "    --sklearn-color-border-box: var(--sg-text-color, var(--theme-code-foreground, var(--jp-content-font-color1, white)));\n",
              "    --sklearn-color-icon: #878787;\n",
              "  }\n",
              "}\n",
              "\n",
              "#sk-container-id-1 {\n",
              "  color: var(--sklearn-color-text);\n",
              "}\n",
              "\n",
              "#sk-container-id-1 pre {\n",
              "  padding: 0;\n",
              "}\n",
              "\n",
              "#sk-container-id-1 input.sk-hidden--visually {\n",
              "  border: 0;\n",
              "  clip: rect(1px 1px 1px 1px);\n",
              "  clip: rect(1px, 1px, 1px, 1px);\n",
              "  height: 1px;\n",
              "  margin: -1px;\n",
              "  overflow: hidden;\n",
              "  padding: 0;\n",
              "  position: absolute;\n",
              "  width: 1px;\n",
              "}\n",
              "\n",
              "#sk-container-id-1 div.sk-dashed-wrapped {\n",
              "  border: 1px dashed var(--sklearn-color-line);\n",
              "  margin: 0 0.4em 0.5em 0.4em;\n",
              "  box-sizing: border-box;\n",
              "  padding-bottom: 0.4em;\n",
              "  background-color: var(--sklearn-color-background);\n",
              "}\n",
              "\n",
              "#sk-container-id-1 div.sk-container {\n",
              "  /* jupyter's `normalize.less` sets `[hidden] { display: none; }`\n",
              "     but bootstrap.min.css set `[hidden] { display: none !important; }`\n",
              "     so we also need the `!important` here to be able to override the\n",
              "     default hidden behavior on the sphinx rendered scikit-learn.org.\n",
              "     See: https://github.com/scikit-learn/scikit-learn/issues/21755 */\n",
              "  display: inline-block !important;\n",
              "  position: relative;\n",
              "}\n",
              "\n",
              "#sk-container-id-1 div.sk-text-repr-fallback {\n",
              "  display: none;\n",
              "}\n",
              "\n",
              "div.sk-parallel-item,\n",
              "div.sk-serial,\n",
              "div.sk-item {\n",
              "  /* draw centered vertical line to link estimators */\n",
              "  background-image: linear-gradient(var(--sklearn-color-text-on-default-background), var(--sklearn-color-text-on-default-background));\n",
              "  background-size: 2px 100%;\n",
              "  background-repeat: no-repeat;\n",
              "  background-position: center center;\n",
              "}\n",
              "\n",
              "/* Parallel-specific style estimator block */\n",
              "\n",
              "#sk-container-id-1 div.sk-parallel-item::after {\n",
              "  content: \"\";\n",
              "  width: 100%;\n",
              "  border-bottom: 2px solid var(--sklearn-color-text-on-default-background);\n",
              "  flex-grow: 1;\n",
              "}\n",
              "\n",
              "#sk-container-id-1 div.sk-parallel {\n",
              "  display: flex;\n",
              "  align-items: stretch;\n",
              "  justify-content: center;\n",
              "  background-color: var(--sklearn-color-background);\n",
              "  position: relative;\n",
              "}\n",
              "\n",
              "#sk-container-id-1 div.sk-parallel-item {\n",
              "  display: flex;\n",
              "  flex-direction: column;\n",
              "}\n",
              "\n",
              "#sk-container-id-1 div.sk-parallel-item:first-child::after {\n",
              "  align-self: flex-end;\n",
              "  width: 50%;\n",
              "}\n",
              "\n",
              "#sk-container-id-1 div.sk-parallel-item:last-child::after {\n",
              "  align-self: flex-start;\n",
              "  width: 50%;\n",
              "}\n",
              "\n",
              "#sk-container-id-1 div.sk-parallel-item:only-child::after {\n",
              "  width: 0;\n",
              "}\n",
              "\n",
              "/* Serial-specific style estimator block */\n",
              "\n",
              "#sk-container-id-1 div.sk-serial {\n",
              "  display: flex;\n",
              "  flex-direction: column;\n",
              "  align-items: center;\n",
              "  background-color: var(--sklearn-color-background);\n",
              "  padding-right: 1em;\n",
              "  padding-left: 1em;\n",
              "}\n",
              "\n",
              "\n",
              "/* Toggleable style: style used for estimator/Pipeline/ColumnTransformer box that is\n",
              "clickable and can be expanded/collapsed.\n",
              "- Pipeline and ColumnTransformer use this feature and define the default style\n",
              "- Estimators will overwrite some part of the style using the `sk-estimator` class\n",
              "*/\n",
              "\n",
              "/* Pipeline and ColumnTransformer style (default) */\n",
              "\n",
              "#sk-container-id-1 div.sk-toggleable {\n",
              "  /* Default theme specific background. It is overwritten whether we have a\n",
              "  specific estimator or a Pipeline/ColumnTransformer */\n",
              "  background-color: var(--sklearn-color-background);\n",
              "}\n",
              "\n",
              "/* Toggleable label */\n",
              "#sk-container-id-1 label.sk-toggleable__label {\n",
              "  cursor: pointer;\n",
              "  display: block;\n",
              "  width: 100%;\n",
              "  margin-bottom: 0;\n",
              "  padding: 0.5em;\n",
              "  box-sizing: border-box;\n",
              "  text-align: center;\n",
              "}\n",
              "\n",
              "#sk-container-id-1 label.sk-toggleable__label-arrow:before {\n",
              "  /* Arrow on the left of the label */\n",
              "  content: \"▸\";\n",
              "  float: left;\n",
              "  margin-right: 0.25em;\n",
              "  color: var(--sklearn-color-icon);\n",
              "}\n",
              "\n",
              "#sk-container-id-1 label.sk-toggleable__label-arrow:hover:before {\n",
              "  color: var(--sklearn-color-text);\n",
              "}\n",
              "\n",
              "/* Toggleable content - dropdown */\n",
              "\n",
              "#sk-container-id-1 div.sk-toggleable__content {\n",
              "  max-height: 0;\n",
              "  max-width: 0;\n",
              "  overflow: hidden;\n",
              "  text-align: left;\n",
              "  /* unfitted */\n",
              "  background-color: var(--sklearn-color-unfitted-level-0);\n",
              "}\n",
              "\n",
              "#sk-container-id-1 div.sk-toggleable__content.fitted {\n",
              "  /* fitted */\n",
              "  background-color: var(--sklearn-color-fitted-level-0);\n",
              "}\n",
              "\n",
              "#sk-container-id-1 div.sk-toggleable__content pre {\n",
              "  margin: 0.2em;\n",
              "  border-radius: 0.25em;\n",
              "  color: var(--sklearn-color-text);\n",
              "  /* unfitted */\n",
              "  background-color: var(--sklearn-color-unfitted-level-0);\n",
              "}\n",
              "\n",
              "#sk-container-id-1 div.sk-toggleable__content.fitted pre {\n",
              "  /* unfitted */\n",
              "  background-color: var(--sklearn-color-fitted-level-0);\n",
              "}\n",
              "\n",
              "#sk-container-id-1 input.sk-toggleable__control:checked~div.sk-toggleable__content {\n",
              "  /* Expand drop-down */\n",
              "  max-height: 200px;\n",
              "  max-width: 100%;\n",
              "  overflow: auto;\n",
              "}\n",
              "\n",
              "#sk-container-id-1 input.sk-toggleable__control:checked~label.sk-toggleable__label-arrow:before {\n",
              "  content: \"▾\";\n",
              "}\n",
              "\n",
              "/* Pipeline/ColumnTransformer-specific style */\n",
              "\n",
              "#sk-container-id-1 div.sk-label input.sk-toggleable__control:checked~label.sk-toggleable__label {\n",
              "  color: var(--sklearn-color-text);\n",
              "  background-color: var(--sklearn-color-unfitted-level-2);\n",
              "}\n",
              "\n",
              "#sk-container-id-1 div.sk-label.fitted input.sk-toggleable__control:checked~label.sk-toggleable__label {\n",
              "  background-color: var(--sklearn-color-fitted-level-2);\n",
              "}\n",
              "\n",
              "/* Estimator-specific style */\n",
              "\n",
              "/* Colorize estimator box */\n",
              "#sk-container-id-1 div.sk-estimator input.sk-toggleable__control:checked~label.sk-toggleable__label {\n",
              "  /* unfitted */\n",
              "  background-color: var(--sklearn-color-unfitted-level-2);\n",
              "}\n",
              "\n",
              "#sk-container-id-1 div.sk-estimator.fitted input.sk-toggleable__control:checked~label.sk-toggleable__label {\n",
              "  /* fitted */\n",
              "  background-color: var(--sklearn-color-fitted-level-2);\n",
              "}\n",
              "\n",
              "#sk-container-id-1 div.sk-label label.sk-toggleable__label,\n",
              "#sk-container-id-1 div.sk-label label {\n",
              "  /* The background is the default theme color */\n",
              "  color: var(--sklearn-color-text-on-default-background);\n",
              "}\n",
              "\n",
              "/* On hover, darken the color of the background */\n",
              "#sk-container-id-1 div.sk-label:hover label.sk-toggleable__label {\n",
              "  color: var(--sklearn-color-text);\n",
              "  background-color: var(--sklearn-color-unfitted-level-2);\n",
              "}\n",
              "\n",
              "/* Label box, darken color on hover, fitted */\n",
              "#sk-container-id-1 div.sk-label.fitted:hover label.sk-toggleable__label.fitted {\n",
              "  color: var(--sklearn-color-text);\n",
              "  background-color: var(--sklearn-color-fitted-level-2);\n",
              "}\n",
              "\n",
              "/* Estimator label */\n",
              "\n",
              "#sk-container-id-1 div.sk-label label {\n",
              "  font-family: monospace;\n",
              "  font-weight: bold;\n",
              "  display: inline-block;\n",
              "  line-height: 1.2em;\n",
              "}\n",
              "\n",
              "#sk-container-id-1 div.sk-label-container {\n",
              "  text-align: center;\n",
              "}\n",
              "\n",
              "/* Estimator-specific */\n",
              "#sk-container-id-1 div.sk-estimator {\n",
              "  font-family: monospace;\n",
              "  border: 1px dotted var(--sklearn-color-border-box);\n",
              "  border-radius: 0.25em;\n",
              "  box-sizing: border-box;\n",
              "  margin-bottom: 0.5em;\n",
              "  /* unfitted */\n",
              "  background-color: var(--sklearn-color-unfitted-level-0);\n",
              "}\n",
              "\n",
              "#sk-container-id-1 div.sk-estimator.fitted {\n",
              "  /* fitted */\n",
              "  background-color: var(--sklearn-color-fitted-level-0);\n",
              "}\n",
              "\n",
              "/* on hover */\n",
              "#sk-container-id-1 div.sk-estimator:hover {\n",
              "  /* unfitted */\n",
              "  background-color: var(--sklearn-color-unfitted-level-2);\n",
              "}\n",
              "\n",
              "#sk-container-id-1 div.sk-estimator.fitted:hover {\n",
              "  /* fitted */\n",
              "  background-color: var(--sklearn-color-fitted-level-2);\n",
              "}\n",
              "\n",
              "/* Specification for estimator info (e.g. \"i\" and \"?\") */\n",
              "\n",
              "/* Common style for \"i\" and \"?\" */\n",
              "\n",
              ".sk-estimator-doc-link,\n",
              "a:link.sk-estimator-doc-link,\n",
              "a:visited.sk-estimator-doc-link {\n",
              "  float: right;\n",
              "  font-size: smaller;\n",
              "  line-height: 1em;\n",
              "  font-family: monospace;\n",
              "  background-color: var(--sklearn-color-background);\n",
              "  border-radius: 1em;\n",
              "  height: 1em;\n",
              "  width: 1em;\n",
              "  text-decoration: none !important;\n",
              "  margin-left: 1ex;\n",
              "  /* unfitted */\n",
              "  border: var(--sklearn-color-unfitted-level-1) 1pt solid;\n",
              "  color: var(--sklearn-color-unfitted-level-1);\n",
              "}\n",
              "\n",
              ".sk-estimator-doc-link.fitted,\n",
              "a:link.sk-estimator-doc-link.fitted,\n",
              "a:visited.sk-estimator-doc-link.fitted {\n",
              "  /* fitted */\n",
              "  border: var(--sklearn-color-fitted-level-1) 1pt solid;\n",
              "  color: var(--sklearn-color-fitted-level-1);\n",
              "}\n",
              "\n",
              "/* On hover */\n",
              "div.sk-estimator:hover .sk-estimator-doc-link:hover,\n",
              ".sk-estimator-doc-link:hover,\n",
              "div.sk-label-container:hover .sk-estimator-doc-link:hover,\n",
              ".sk-estimator-doc-link:hover {\n",
              "  /* unfitted */\n",
              "  background-color: var(--sklearn-color-unfitted-level-3);\n",
              "  color: var(--sklearn-color-background);\n",
              "  text-decoration: none;\n",
              "}\n",
              "\n",
              "div.sk-estimator.fitted:hover .sk-estimator-doc-link.fitted:hover,\n",
              ".sk-estimator-doc-link.fitted:hover,\n",
              "div.sk-label-container:hover .sk-estimator-doc-link.fitted:hover,\n",
              ".sk-estimator-doc-link.fitted:hover {\n",
              "  /* fitted */\n",
              "  background-color: var(--sklearn-color-fitted-level-3);\n",
              "  color: var(--sklearn-color-background);\n",
              "  text-decoration: none;\n",
              "}\n",
              "\n",
              "/* Span, style for the box shown on hovering the info icon */\n",
              ".sk-estimator-doc-link span {\n",
              "  display: none;\n",
              "  z-index: 9999;\n",
              "  position: relative;\n",
              "  font-weight: normal;\n",
              "  right: .2ex;\n",
              "  padding: .5ex;\n",
              "  margin: .5ex;\n",
              "  width: min-content;\n",
              "  min-width: 20ex;\n",
              "  max-width: 50ex;\n",
              "  color: var(--sklearn-color-text);\n",
              "  box-shadow: 2pt 2pt 4pt #999;\n",
              "  /* unfitted */\n",
              "  background: var(--sklearn-color-unfitted-level-0);\n",
              "  border: .5pt solid var(--sklearn-color-unfitted-level-3);\n",
              "}\n",
              "\n",
              ".sk-estimator-doc-link.fitted span {\n",
              "  /* fitted */\n",
              "  background: var(--sklearn-color-fitted-level-0);\n",
              "  border: var(--sklearn-color-fitted-level-3);\n",
              "}\n",
              "\n",
              ".sk-estimator-doc-link:hover span {\n",
              "  display: block;\n",
              "}\n",
              "\n",
              "/* \"?\"-specific style due to the `<a>` HTML tag */\n",
              "\n",
              "#sk-container-id-1 a.estimator_doc_link {\n",
              "  float: right;\n",
              "  font-size: 1rem;\n",
              "  line-height: 1em;\n",
              "  font-family: monospace;\n",
              "  background-color: var(--sklearn-color-background);\n",
              "  border-radius: 1rem;\n",
              "  height: 1rem;\n",
              "  width: 1rem;\n",
              "  text-decoration: none;\n",
              "  /* unfitted */\n",
              "  color: var(--sklearn-color-unfitted-level-1);\n",
              "  border: var(--sklearn-color-unfitted-level-1) 1pt solid;\n",
              "}\n",
              "\n",
              "#sk-container-id-1 a.estimator_doc_link.fitted {\n",
              "  /* fitted */\n",
              "  border: var(--sklearn-color-fitted-level-1) 1pt solid;\n",
              "  color: var(--sklearn-color-fitted-level-1);\n",
              "}\n",
              "\n",
              "/* On hover */\n",
              "#sk-container-id-1 a.estimator_doc_link:hover {\n",
              "  /* unfitted */\n",
              "  background-color: var(--sklearn-color-unfitted-level-3);\n",
              "  color: var(--sklearn-color-background);\n",
              "  text-decoration: none;\n",
              "}\n",
              "\n",
              "#sk-container-id-1 a.estimator_doc_link.fitted:hover {\n",
              "  /* fitted */\n",
              "  background-color: var(--sklearn-color-fitted-level-3);\n",
              "}\n",
              "</style><div id=\"sk-container-id-1\" class=\"sk-top-container\"><div class=\"sk-text-repr-fallback\"><pre>Pipeline(steps=[(&#x27;geo&#x27;,\n",
              "                 TemporalGeoTransformer(coord_df=            Location   Latitude   Longitude\n",
              "0             Albury -36.074816  146.923828\n",
              "1      BadgerysCreek -33.884444  150.783056\n",
              "2              Cobar -31.496667  145.834167\n",
              "3       CoffsHarbour -30.296263  153.113533\n",
              "4              Moree -29.462778  149.841667\n",
              "5          Newcastle -32.926670  151.778900\n",
              "6          NorahHead -33.281389  151.568611\n",
              "7      NorfolkIsland -29.032222  167.958611\n",
              "8            Penrith -33.751389  150.700000\n",
              "9           R...\n",
              "                                                   &#x27;Humidity9am_cap&#x27;,\n",
              "                                                   &#x27;MinTemp_cap&#x27;, &#x27;MaxTemp_cap&#x27;,\n",
              "                                                   &#x27;WindGustSpeed_cap&#x27;,\n",
              "                                                   &#x27;WindSpeed9am_cap&#x27;,\n",
              "                                                   &#x27;WindSpeed3pm_cap&#x27;]),\n",
              "                                                 (&#x27;onehot&#x27;,\n",
              "                                                  OneHotEncoder(drop=&#x27;first&#x27;,\n",
              "                                                                handle_unknown=&#x27;ignore&#x27;),\n",
              "                                                  [&#x27;Rainfall_cat&#x27;,\n",
              "                                                   &#x27;Evaporation_cat&#x27;,\n",
              "                                                   &#x27;RegionCluster&#x27;]),\n",
              "                                                 (&#x27;binary&#x27;, OrdinalEncoder(),\n",
              "                                                  [&#x27;RainToday&#x27;])])),\n",
              "                (&#x27;modelo&#x27;,\n",
              "                 LogisticRegression(C=0.07439822123443487, random_state=42,\n",
              "                                    solver=&#x27;liblinear&#x27;))])</pre><b>In a Jupyter environment, please rerun this cell to show the HTML representation or trust the notebook. <br />On GitHub, the HTML representation is unable to render, please try loading this page with nbviewer.org.</b></div><div class=\"sk-container\" hidden><div class=\"sk-item sk-dashed-wrapped\"><div class=\"sk-label-container\"><div class=\"sk-label fitted sk-toggleable\"><input class=\"sk-toggleable__control sk-hidden--visually\" id=\"sk-estimator-id-1\" type=\"checkbox\" ><label for=\"sk-estimator-id-1\" class=\"sk-toggleable__label fitted sk-toggleable__label-arrow fitted\">&nbsp;&nbsp;Pipeline<a class=\"sk-estimator-doc-link fitted\" rel=\"noreferrer\" target=\"_blank\" href=\"https://scikit-learn.org/1.4/modules/generated/sklearn.pipeline.Pipeline.html\">?<span>Documentation for Pipeline</span></a><span class=\"sk-estimator-doc-link fitted\">i<span>Fitted</span></span></label><div class=\"sk-toggleable__content fitted\"><pre>Pipeline(steps=[(&#x27;geo&#x27;,\n",
              "                 TemporalGeoTransformer(coord_df=            Location   Latitude   Longitude\n",
              "0             Albury -36.074816  146.923828\n",
              "1      BadgerysCreek -33.884444  150.783056\n",
              "2              Cobar -31.496667  145.834167\n",
              "3       CoffsHarbour -30.296263  153.113533\n",
              "4              Moree -29.462778  149.841667\n",
              "5          Newcastle -32.926670  151.778900\n",
              "6          NorahHead -33.281389  151.568611\n",
              "7      NorfolkIsland -29.032222  167.958611\n",
              "8            Penrith -33.751389  150.700000\n",
              "9           R...\n",
              "                                                   &#x27;Humidity9am_cap&#x27;,\n",
              "                                                   &#x27;MinTemp_cap&#x27;, &#x27;MaxTemp_cap&#x27;,\n",
              "                                                   &#x27;WindGustSpeed_cap&#x27;,\n",
              "                                                   &#x27;WindSpeed9am_cap&#x27;,\n",
              "                                                   &#x27;WindSpeed3pm_cap&#x27;]),\n",
              "                                                 (&#x27;onehot&#x27;,\n",
              "                                                  OneHotEncoder(drop=&#x27;first&#x27;,\n",
              "                                                                handle_unknown=&#x27;ignore&#x27;),\n",
              "                                                  [&#x27;Rainfall_cat&#x27;,\n",
              "                                                   &#x27;Evaporation_cat&#x27;,\n",
              "                                                   &#x27;RegionCluster&#x27;]),\n",
              "                                                 (&#x27;binary&#x27;, OrdinalEncoder(),\n",
              "                                                  [&#x27;RainToday&#x27;])])),\n",
              "                (&#x27;modelo&#x27;,\n",
              "                 LogisticRegression(C=0.07439822123443487, random_state=42,\n",
              "                                    solver=&#x27;liblinear&#x27;))])</pre></div> </div></div><div class=\"sk-serial\"><div class=\"sk-item\"><div class=\"sk-estimator fitted sk-toggleable\"><input class=\"sk-toggleable__control sk-hidden--visually\" id=\"sk-estimator-id-2\" type=\"checkbox\" ><label for=\"sk-estimator-id-2\" class=\"sk-toggleable__label fitted sk-toggleable__label-arrow fitted\">TemporalGeoTransformer</label><div class=\"sk-toggleable__content fitted\"><pre>TemporalGeoTransformer(coord_df=            Location   Latitude   Longitude\n",
              "0             Albury -36.074816  146.923828\n",
              "1      BadgerysCreek -33.884444  150.783056\n",
              "2              Cobar -31.496667  145.834167\n",
              "3       CoffsHarbour -30.296263  153.113533\n",
              "4              Moree -29.462778  149.841667\n",
              "5          Newcastle -32.926670  151.778900\n",
              "6          NorahHead -33.281389  151.568611\n",
              "7      NorfolkIsland -29.032222  167.958611\n",
              "8            Penrith -33.751389  150.700000\n",
              "9           Richmond -33.599500  150.74...\n",
              "37       Witchcliffe -34.033333  115.100000\n",
              "38        PearceRAAF -31.667800  116.016700\n",
              "39      PerthAirport -31.940278  115.966944\n",
              "40             Perth -31.950500  115.860500\n",
              "41        SalmonGums -32.983333  121.633333\n",
              "42           Walpole -34.983333  116.733333\n",
              "43            Hobart -42.882600  147.325700\n",
              "44        Launceston -41.433333  147.133333\n",
              "45      AliceSprings -23.698000  133.880700\n",
              "46            Darwin -12.463440  130.845642\n",
              "47         Katherine -14.466667  132.266667\n",
              "48             Uluru -25.344444  131.036944)</pre></div> </div></div><div class=\"sk-item\"><div class=\"sk-estimator fitted sk-toggleable\"><input class=\"sk-toggleable__control sk-hidden--visually\" id=\"sk-estimator-id-3\" type=\"checkbox\" ><label for=\"sk-estimator-id-3\" class=\"sk-toggleable__label fitted sk-toggleable__label-arrow fitted\">HierarchicalImputer</label><div class=\"sk-toggleable__content fitted\"><pre>HierarchicalImputer(columnas_cat=[&#x27;Date&#x27;, &#x27;Location&#x27;, &#x27;RainToday&#x27;, &#x27;WindDir3pm&#x27;,\n",
              "                                  &#x27;WindDir9am&#x27;, &#x27;WindGustDir&#x27;, &#x27;Cloud9am&#x27;,\n",
              "                                  &#x27;Cloud3pm&#x27;],\n",
              "                    columnas_num_excluir=[&#x27;Cloud9am&#x27;, &#x27;Cloud3pm&#x27;])</pre></div> </div></div><div class=\"sk-item\"><div class=\"sk-estimator fitted sk-toggleable\"><input class=\"sk-toggleable__control sk-hidden--visually\" id=\"sk-estimator-id-4\" type=\"checkbox\" ><label for=\"sk-estimator-id-4\" class=\"sk-toggleable__label fitted sk-toggleable__label-arrow fitted\">OutlierCapper</label><div class=\"sk-toggleable__content fitted\"><pre>OutlierCapper()</pre></div> </div></div><div class=\"sk-item\"><div class=\"sk-estimator fitted sk-toggleable\"><input class=\"sk-toggleable__control sk-hidden--visually\" id=\"sk-estimator-id-5\" type=\"checkbox\" ><label for=\"sk-estimator-id-5\" class=\"sk-toggleable__label fitted sk-toggleable__label-arrow fitted\">CyclicEncoderCleaner</label><div class=\"sk-toggleable__content fitted\"><pre>CyclicEncoderCleaner()</pre></div> </div></div><div class=\"sk-item sk-dashed-wrapped\"><div class=\"sk-label-container\"><div class=\"sk-label fitted sk-toggleable\"><input class=\"sk-toggleable__control sk-hidden--visually\" id=\"sk-estimator-id-6\" type=\"checkbox\" ><label for=\"sk-estimator-id-6\" class=\"sk-toggleable__label fitted sk-toggleable__label-arrow fitted\">&nbsp;preprocesamiento: ColumnTransformer<a class=\"sk-estimator-doc-link fitted\" rel=\"noreferrer\" target=\"_blank\" href=\"https://scikit-learn.org/1.4/modules/generated/sklearn.compose.ColumnTransformer.html\">?<span>Documentation for preprocesamiento: ColumnTransformer</span></a></label><div class=\"sk-toggleable__content fitted\"><pre>ColumnTransformer(transformers=[(&#x27;num&#x27;, StandardScaler(),\n",
              "                                 [&#x27;Sunshine&#x27;, &#x27;Humidity3pm&#x27;, &#x27;Cloud9am&#x27;,\n",
              "                                  &#x27;Cloud3pm&#x27;, &#x27;anio&#x27;, &#x27;Temp9am_cap&#x27;,\n",
              "                                  &#x27;Temp3pm_cap&#x27;, &#x27;Pressure9am_cap&#x27;,\n",
              "                                  &#x27;Pressure3pm_cap&#x27;, &#x27;Humidity9am_cap&#x27;,\n",
              "                                  &#x27;MinTemp_cap&#x27;, &#x27;MaxTemp_cap&#x27;,\n",
              "                                  &#x27;WindGustSpeed_cap&#x27;, &#x27;WindSpeed9am_cap&#x27;,\n",
              "                                  &#x27;WindSpeed3pm_cap&#x27;]),\n",
              "                                (&#x27;onehot&#x27;,\n",
              "                                 OneHotEncoder(drop=&#x27;first&#x27;,\n",
              "                                               handle_unknown=&#x27;ignore&#x27;),\n",
              "                                 [&#x27;Rainfall_cat&#x27;, &#x27;Evaporation_cat&#x27;,\n",
              "                                  &#x27;RegionCluster&#x27;]),\n",
              "                                (&#x27;binary&#x27;, OrdinalEncoder(), [&#x27;RainToday&#x27;])])</pre></div> </div></div><div class=\"sk-parallel\"><div class=\"sk-parallel-item\"><div class=\"sk-item\"><div class=\"sk-label-container\"><div class=\"sk-label fitted sk-toggleable\"><input class=\"sk-toggleable__control sk-hidden--visually\" id=\"sk-estimator-id-7\" type=\"checkbox\" ><label for=\"sk-estimator-id-7\" class=\"sk-toggleable__label fitted sk-toggleable__label-arrow fitted\">num</label><div class=\"sk-toggleable__content fitted\"><pre>[&#x27;Sunshine&#x27;, &#x27;Humidity3pm&#x27;, &#x27;Cloud9am&#x27;, &#x27;Cloud3pm&#x27;, &#x27;anio&#x27;, &#x27;Temp9am_cap&#x27;, &#x27;Temp3pm_cap&#x27;, &#x27;Pressure9am_cap&#x27;, &#x27;Pressure3pm_cap&#x27;, &#x27;Humidity9am_cap&#x27;, &#x27;MinTemp_cap&#x27;, &#x27;MaxTemp_cap&#x27;, &#x27;WindGustSpeed_cap&#x27;, &#x27;WindSpeed9am_cap&#x27;, &#x27;WindSpeed3pm_cap&#x27;]</pre></div> </div></div><div class=\"sk-serial\"><div class=\"sk-item\"><div class=\"sk-estimator fitted sk-toggleable\"><input class=\"sk-toggleable__control sk-hidden--visually\" id=\"sk-estimator-id-8\" type=\"checkbox\" ><label for=\"sk-estimator-id-8\" class=\"sk-toggleable__label fitted sk-toggleable__label-arrow fitted\">&nbsp;StandardScaler<a class=\"sk-estimator-doc-link fitted\" rel=\"noreferrer\" target=\"_blank\" href=\"https://scikit-learn.org/1.4/modules/generated/sklearn.preprocessing.StandardScaler.html\">?<span>Documentation for StandardScaler</span></a></label><div class=\"sk-toggleable__content fitted\"><pre>StandardScaler()</pre></div> </div></div></div></div></div><div class=\"sk-parallel-item\"><div class=\"sk-item\"><div class=\"sk-label-container\"><div class=\"sk-label fitted sk-toggleable\"><input class=\"sk-toggleable__control sk-hidden--visually\" id=\"sk-estimator-id-9\" type=\"checkbox\" ><label for=\"sk-estimator-id-9\" class=\"sk-toggleable__label fitted sk-toggleable__label-arrow fitted\">onehot</label><div class=\"sk-toggleable__content fitted\"><pre>[&#x27;Rainfall_cat&#x27;, &#x27;Evaporation_cat&#x27;, &#x27;RegionCluster&#x27;]</pre></div> </div></div><div class=\"sk-serial\"><div class=\"sk-item\"><div class=\"sk-estimator fitted sk-toggleable\"><input class=\"sk-toggleable__control sk-hidden--visually\" id=\"sk-estimator-id-10\" type=\"checkbox\" ><label for=\"sk-estimator-id-10\" class=\"sk-toggleable__label fitted sk-toggleable__label-arrow fitted\">&nbsp;OneHotEncoder<a class=\"sk-estimator-doc-link fitted\" rel=\"noreferrer\" target=\"_blank\" href=\"https://scikit-learn.org/1.4/modules/generated/sklearn.preprocessing.OneHotEncoder.html\">?<span>Documentation for OneHotEncoder</span></a></label><div class=\"sk-toggleable__content fitted\"><pre>OneHotEncoder(drop=&#x27;first&#x27;, handle_unknown=&#x27;ignore&#x27;)</pre></div> </div></div></div></div></div><div class=\"sk-parallel-item\"><div class=\"sk-item\"><div class=\"sk-label-container\"><div class=\"sk-label fitted sk-toggleable\"><input class=\"sk-toggleable__control sk-hidden--visually\" id=\"sk-estimator-id-11\" type=\"checkbox\" ><label for=\"sk-estimator-id-11\" class=\"sk-toggleable__label fitted sk-toggleable__label-arrow fitted\">binary</label><div class=\"sk-toggleable__content fitted\"><pre>[&#x27;RainToday&#x27;]</pre></div> </div></div><div class=\"sk-serial\"><div class=\"sk-item\"><div class=\"sk-estimator fitted sk-toggleable\"><input class=\"sk-toggleable__control sk-hidden--visually\" id=\"sk-estimator-id-12\" type=\"checkbox\" ><label for=\"sk-estimator-id-12\" class=\"sk-toggleable__label fitted sk-toggleable__label-arrow fitted\">&nbsp;OrdinalEncoder<a class=\"sk-estimator-doc-link fitted\" rel=\"noreferrer\" target=\"_blank\" href=\"https://scikit-learn.org/1.4/modules/generated/sklearn.preprocessing.OrdinalEncoder.html\">?<span>Documentation for OrdinalEncoder</span></a></label><div class=\"sk-toggleable__content fitted\"><pre>OrdinalEncoder()</pre></div> </div></div></div></div></div></div></div><div class=\"sk-item\"><div class=\"sk-estimator fitted sk-toggleable\"><input class=\"sk-toggleable__control sk-hidden--visually\" id=\"sk-estimator-id-13\" type=\"checkbox\" ><label for=\"sk-estimator-id-13\" class=\"sk-toggleable__label fitted sk-toggleable__label-arrow fitted\">&nbsp;LogisticRegression<a class=\"sk-estimator-doc-link fitted\" rel=\"noreferrer\" target=\"_blank\" href=\"https://scikit-learn.org/1.4/modules/generated/sklearn.linear_model.LogisticRegression.html\">?<span>Documentation for LogisticRegression</span></a></label><div class=\"sk-toggleable__content fitted\"><pre>LogisticRegression(C=0.07439822123443487, random_state=42, solver=&#x27;liblinear&#x27;)</pre></div> </div></div></div></div></div></div>"
            ],
            "text/plain": [
              "Pipeline(steps=[('geo',\n",
              "                 TemporalGeoTransformer(coord_df=            Location   Latitude   Longitude\n",
              "0             Albury -36.074816  146.923828\n",
              "1      BadgerysCreek -33.884444  150.783056\n",
              "2              Cobar -31.496667  145.834167\n",
              "3       CoffsHarbour -30.296263  153.113533\n",
              "4              Moree -29.462778  149.841667\n",
              "5          Newcastle -32.926670  151.778900\n",
              "6          NorahHead -33.281389  151.568611\n",
              "7      NorfolkIsland -29.032222  167.958611\n",
              "8            Penrith -33.751389  150.700000\n",
              "9           R...\n",
              "                                                   'Humidity9am_cap',\n",
              "                                                   'MinTemp_cap', 'MaxTemp_cap',\n",
              "                                                   'WindGustSpeed_cap',\n",
              "                                                   'WindSpeed9am_cap',\n",
              "                                                   'WindSpeed3pm_cap']),\n",
              "                                                 ('onehot',\n",
              "                                                  OneHotEncoder(drop='first',\n",
              "                                                                handle_unknown='ignore'),\n",
              "                                                  ['Rainfall_cat',\n",
              "                                                   'Evaporation_cat',\n",
              "                                                   'RegionCluster']),\n",
              "                                                 ('binary', OrdinalEncoder(),\n",
              "                                                  ['RainToday'])])),\n",
              "                ('modelo',\n",
              "                 LogisticRegression(C=0.07439822123443487, random_state=42,\n",
              "                                    solver='liblinear'))])"
            ]
          },
          "execution_count": 17,
          "metadata": {},
          "output_type": "execute_result"
        }
      ],
      "source": [
        "pipeline = joblib.load('./docker/pipeline.pkl')\n",
        "pipeline"
      ]
    },
    {
      "cell_type": "markdown",
      "metadata": {},
      "source": [
        "# Docker"
      ]
    },
    {
      "cell_type": "markdown",
      "metadata": {},
      "source": [
        "Los siguientes comandos para la construccion de la imagen y la ejecucion del container deben ser realizados por consola"
      ]
    },
    {
      "cell_type": "markdown",
      "metadata": {},
      "source": [
        "Con comando ```cd``` nos situamos sobre la carpeta de docker descargada. Por ejemplo:\n",
        "\n",
        "```\n",
        ">>> D:\\Downloads\\> cd docker\n",
        ">>> D:\\Downloads\\docker>\n",
        "\n",
        "```"
      ]
    },
    {
      "cell_type": "markdown",
      "metadata": {},
      "source": [
        "Luego construimos la imagen de docker.\n",
        "\n",
        "\n",
        "```\n",
        ">>> D:\\Downloads\\docker> docker build -t inference-python-test .\n",
        "```"
      ]
    },
    {
      "cell_type": "markdown",
      "metadata": {},
      "source": [
        "docker build -t inference-python-test ."
      ]
    },
    {
      "cell_type": "markdown",
      "metadata": {},
      "source": [
        "Para la ejecucion, debemos indicarle el path correspondiente en donde se encuentra. Por ejemplo: \n",
        "Si el path es `D:/Downloads`, debo ejecutar: \n",
        "\n",
        "`docker run --rm -v \"{path}/files:/files\" inference-python-test`\n",
        "```\n",
        ">>> D:\\Downloads\\docker> docker run --rm -v \"D:/Downloads/files:/files\" inference-python-test\n",
        "```\n"
      ]
    },
    {
      "cell_type": "markdown",
      "metadata": {},
      "source": [
        "docker run --rm -v \"{path}/files:/files\" inference-python-test"
      ]
    },
    {
      "cell_type": "markdown",
      "metadata": {},
      "source": [
        "## Output"
      ]
    },
    {
      "cell_type": "markdown",
      "metadata": {},
      "source": [
        "Se creará en la carpeta `files`un archivo `output.csv` con las predicciones"
      ]
    },
    {
      "cell_type": "code",
      "execution_count": 19,
      "metadata": {},
      "outputs": [
        {
          "data": {
            "text/html": [
              "<div>\n",
              "<style scoped>\n",
              "    .dataframe tbody tr th:only-of-type {\n",
              "        vertical-align: middle;\n",
              "    }\n",
              "\n",
              "    .dataframe tbody tr th {\n",
              "        vertical-align: top;\n",
              "    }\n",
              "\n",
              "    .dataframe thead th {\n",
              "        text-align: right;\n",
              "    }\n",
              "</style>\n",
              "<table border=\"1\" class=\"dataframe\">\n",
              "  <thead>\n",
              "    <tr style=\"text-align: right;\">\n",
              "      <th></th>\n",
              "      <th>RainTomorrow_pred</th>\n",
              "    </tr>\n",
              "  </thead>\n",
              "  <tbody>\n",
              "    <tr>\n",
              "      <th>35373</th>\n",
              "      <td>1</td>\n",
              "    </tr>\n",
              "    <tr>\n",
              "      <th>36423</th>\n",
              "      <td>0</td>\n",
              "    </tr>\n",
              "    <tr>\n",
              "      <th>5427</th>\n",
              "      <td>1</td>\n",
              "    </tr>\n",
              "    <tr>\n",
              "      <th>120230</th>\n",
              "      <td>0</td>\n",
              "    </tr>\n",
              "    <tr>\n",
              "      <th>136981</th>\n",
              "      <td>0</td>\n",
              "    </tr>\n",
              "  </tbody>\n",
              "</table>\n",
              "</div>"
            ],
            "text/plain": [
              "        RainTomorrow_pred\n",
              "35373                   1\n",
              "36423                   0\n",
              "5427                    1\n",
              "120230                  0\n",
              "136981                  0"
            ]
          },
          "execution_count": 19,
          "metadata": {},
          "output_type": "execute_result"
        }
      ],
      "source": [
        "df_output = pd.read_csv('./files/output.csv')\n",
        "df_output.sample(5)"
      ]
    },
    {
      "cell_type": "markdown",
      "metadata": {},
      "source": [
        "# Ejemplo de prediccion"
      ]
    },
    {
      "cell_type": "code",
      "execution_count": 20,
      "metadata": {},
      "outputs": [
        {
          "name": "stdout",
          "output_type": "stream",
          "text": [
            "Predicción para fila 0 del conjunto de prueba : Lloverá\n"
          ]
        }
      ],
      "source": [
        "# Tomar una fila de X_test para hacer predicción\n",
        "indice = 0\n",
        "nueva_fila = X_test.iloc[[indice]]  # Usamos doble corchete para mantener el formato DataFrame\n",
        "\n",
        "# Predecir la probabilidad de clase 1 (lluvia)\n",
        "proba = pipeline.predict_proba(nueva_fila)[:, 1]\n",
        "\n",
        "# Aplicar umbral custom\n",
        "umbral = 0.1\n",
        "prediccion = (proba >= umbral).astype(int)\n",
        "\n",
        "# Mostrar resultados\n",
        "print(f\"Predicción para fila {indice} del conjunto de prueba : {'Lloverá' if prediccion[0] == 1 else 'No lloverá'}\")\n"
      ]
    },
    {
      "cell_type": "markdown",
      "metadata": {},
      "source": [
        "Evaluamos el rendimiento del modelo para los datos de prueba. Este paso es para verificar que el pipeline este funcionando como esperamos."
      ]
    },
    {
      "cell_type": "code",
      "execution_count": 21,
      "metadata": {},
      "outputs": [
        {
          "name": "stdout",
          "output_type": "stream",
          "text": [
            "\n",
            " Reporte de clasificación (umbral 0.1):\n",
            "              precision    recall  f1-score   support\n",
            "\n",
            "           0       0.96      0.60      0.74     22064\n",
            "           1       0.40      0.92      0.56      6375\n",
            "\n",
            "    accuracy                           0.67     28439\n",
            "   macro avg       0.68      0.76      0.65     28439\n",
            "weighted avg       0.84      0.67      0.70     28439\n",
            "\n",
            " Métrica personalizada (custom): 0.746\n",
            " Recall clase 1: 0.919\n",
            " Precisión clase 1: 0.400\n",
            " Matriz de confusión (umbral ajustado):\n"
          ]
        },
        {
          "data": {
            "image/png": "[encoded data removed]",
            "text/plain": [
              "<Figure size 640x480 with 2 Axes>"
            ]
          },
          "metadata": {},
          "output_type": "display_data"
        }
      ],
      "source": [
        "# Predecir clases\n",
        "y_pred = pipeline.predict(X_test)\n",
        "\n",
        "# Predecir probabilidades\n",
        "y_proba = pipeline.predict_proba(X_test)[:, 1]\n",
        "\n",
        "# Predicción con umbral custom\n",
        "y_pred_custom = (y_proba >= umbral).astype(int)\n",
        "\n",
        "# Reporte de clasificación\n",
        "print(f\"\\n Reporte de clasificación (umbral {umbral}):\")\n",
        "print(classification_report(y_test, y_pred_custom))\n",
        "\n",
        "# Métrica personalizada\n",
        "precision_1 = precision_score(y_test, y_pred_custom, pos_label=1)\n",
        "recall_1 = recall_score(y_test, y_pred_custom, pos_label=1)\n",
        "custom_metric = (2 * recall_1 + precision_1) / 3\n",
        "\n",
        "print(f\" Métrica personalizada (custom): {custom_metric:.3f}\")\n",
        "print(f\" Recall clase 1: {recall_1:.3f}\")\n",
        "print(f\" Precisión clase 1: {precision_1:.3f}\")\n",
        "\n",
        "# Matriz de confusión\n",
        "print(\" Matriz de confusión (umbral ajustado):\")\n",
        "ConfusionMatrixDisplay.from_predictions(y_test, y_pred_custom)\n",
        "plt.show()"
      ]
    }
  ],
  "metadata": {
    "colab": {
      "provenance": []
    },
    "kernelspec": {
      "display_name": "Python 3",
      "name": "python3"
    },
    "language_info": {
      "codemirror_mode": {
        "name": "ipython",
        "version": 3
      },
      "file_extension": ".py",
      "mimetype": "text/x-python",
      "name": "python",
      "nbconvert_exporter": "python",
      "pygments_lexer": "ipython3",
      "version": "3.12.6"
    }
  },
  "nbformat": 4,
  "nbformat_minor": 0
}
